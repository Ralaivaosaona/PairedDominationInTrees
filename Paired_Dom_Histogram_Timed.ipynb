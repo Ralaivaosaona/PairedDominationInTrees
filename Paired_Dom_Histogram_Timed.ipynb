{
 "cells": [
  {
   "cell_type": "markdown",
   "id": "47adc5ac",
   "metadata": {},
   "source": [
    "# Plot Histogram of  $\\gamma_{pr}$-number  of M sampled Cayley trees:\n",
    "\n",
    "The script is timed. Change your parameters $n,M$ if it runs too slow. \n"
   ]
  },
  {
   "cell_type": "code",
   "execution_count": 1,
   "id": "937f03e6",
   "metadata": {},
   "outputs": [
    {
     "name": "stderr",
     "output_type": "stream",
     "text": [
      "Processing: 100%|█████████████████████████| 20000/20000 [17:48<00:00, 18.71it/s]"
     ]
    },
    {
     "name": "stdout",
     "output_type": "stream",
     "text": [
      "Completed.\n"
     ]
    },
    {
     "name": "stderr",
     "output_type": "stream",
     "text": [
      "\n"
     ]
    }
   ],
   "source": [
    "# Create Histogram Data H\n",
    "\n",
    "import numpy\n",
    "import collections\n",
    "from tqdm import tqdm\n",
    "\n",
    "n = 10000  # Number of vertices in the tree, e.g. 10000\n",
    "M = 20000  # Number of random trees to generate, e.g. 1000 \n",
    "H = []     # List to store histogram data\n",
    "\n",
    "for _ in tqdm(range(1, M + 1), desc=\"Processing\"):\n",
    "    # Generate a random tree with n vertices\n",
    "    T = graphs.RandomTree(n)\n",
    "\n",
    "    # BFS setup using deque for efficient popping\n",
    "    queue = collections.deque([0])\n",
    "    parent = {0: None}\n",
    "    order = []\n",
    "\n",
    "    while queue:\n",
    "        v = queue.popleft()\n",
    "        order.append(v)\n",
    "        for child in T[v]:\n",
    "            if child not in parent:  # Ensure we do not revisit the parent\n",
    "                parent[child] = v\n",
    "                queue.append(child)\n",
    "\n",
    "    \n",
    "    # Initialise marking dictionary\n",
    "    B = collections.defaultdict(lambda: [0, 0])  # Create boolean [In_PD, Dom_by_Child] \n",
    "    \n",
    "    # Process nodes from leaves to root\n",
    "    for l in reversed(order[1:]):  # Ignore root 0\n",
    "        p = parent[l]  # always exists, p is never none could be 0\n",
    "        gp = parent[p] if p is not None else None # possible that gp is None\n",
    "\n",
    "        if B[l][1] == 0 and B[p][0] == 0 and p!=0 and B[gp][0]==0:\n",
    "            B[p][0] = B[gp][0] = B[gp][1] = 1\n",
    "            if gp!=0:\n",
    "                B[parent[gp]][1] = 1\n",
    "\n",
    "        elif B[l][1] == 0 and B[p][0] == 0 and (p==0 or B[gp][0]==1):\n",
    "            B[l][0] = B[p][0] = B[p][1] = 1\n",
    "            if p!=0:\n",
    "                B[gp][1] = 1\n",
    "\n",
    "    # Ensure root is dominated\n",
    "    if B[0][1] == 0:\n",
    "        B[0][0] = B[order[1]][0] = B[0][1] = 1\n",
    "\n",
    "    # Compute PD-number\n",
    "    PD = sum(1 for k in range(n) if B[k][0] == 1)\n",
    "    \n",
    "    H.append(PD)\n",
    "    #H.append(RR(PD / n)) #Uncomment this isntead if you want proportion\n",
    "\n",
    "print(\"Completed.\")    \n",
    "#Uncomment code below if you \n",
    "\n",
    "# hist = histogram(H, bins=50, axes_labels=[\"PD-numb\", \"Frequency\"], title=\"Distribution of PD-Numbers\")\n",
    "# hist.show()\n",
    "\n",
    "# # Efficient mean computation\n",
    "# average_marked = numpy.mean(H)\n",
    "# print(f\"Average Proportion of PD-Nodes: {average_marked:.6f}\")    "
   ]
  },
  {
   "cell_type": "code",
   "execution_count": 2,
   "id": "e62d9a76",
   "metadata": {},
   "outputs": [
    {
     "data": {
      "image/png": "[encoded data removed]",
      "text/plain": [
       "Graphics object consisting of 1 graphics primitive"
      ]
     },
     "metadata": {},
     "output_type": "display_data"
    },
    {
     "name": "stdout",
     "output_type": "stream",
     "text": [
      "Average: 5177.46\n"
     ]
    }
   ],
   "source": [
    "# Plot histogram, select parameters as you please \n",
    "# import matplotlib.pyplot as plt\n",
    "\n",
    "hist = histogram(H, bins=20000, axes_labels=[\"\", \"\"], title=\"\", color=\"gray\")\n",
    "hist.show(gridlines=\"medium\")\n",
    "\n",
    "\n",
    "# Efficient mean computation\n",
    "average_marked = numpy.mean(H)\n",
    "print(f\"Average: {average_marked:.2f}\")    "
   ]
  },
  {
   "cell_type": "code",
   "execution_count": null,
   "id": "563aaaab",
   "metadata": {},
   "outputs": [],
   "source": []
  }
 ],
 "metadata": {
  "kernelspec": {
   "display_name": "SageMath 9.8",
   "language": "sage",
   "name": "sagemath"
  },
  "language_info": {
   "codemirror_mode": {
    "name": "ipython",
    "version": 3
   },
   "file_extension": ".py",
   "mimetype": "text/x-python",
   "name": "python",
   "nbconvert_exporter": "python",
   "pygments_lexer": "ipython3",
   "version": "3.10.10"
  }
 },
 "nbformat": 4,
 "nbformat_minor": 5
}
