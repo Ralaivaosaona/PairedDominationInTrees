{
 "cells": [
  {
   "cell_type": "code",
   "execution_count": 3,
   "id": "a17dab9d",
   "metadata": {},
   "outputs": [],
   "source": [
    "from scipy.optimize import fsolve\n",
    "import numpy as np\n",
    "\n",
    "#binary (x+1)^2/4\n",
    "#plane 1/(2-x)\n",
    "#labelled e^(x-1)\n",
    "#Select correct PGF\n",
    "g(x)=e^(x-1)"
   ]
  },
  {
   "cell_type": "code",
   "execution_count": 4,
   "id": "662db536",
   "metadata": {},
   "outputs": [],
   "source": [
    "# Load system of equations\n",
    "def equations(vars):\n",
    "    xB, xF, xR, xP = vars\n",
    "    eq1 = xB-g(xF)\n",
    "    eq2 = xF-(g(xP+xF)-g(xF))\n",
    "    #without the N for yR\n",
    "    eq3 = xR-(g(xB+xF+xP)-g(xF+xP))\n",
    "    eq4 = xP-(1-g(xB+xF+xP))\n",
    "    return [eq1, eq2,eq3, eq4]"
   ]
  },
  {
   "cell_type": "code",
   "execution_count": 5,
   "id": "4363df3d",
   "metadata": {},
   "outputs": [
    {
     "name": "stdout",
     "output_type": "stream",
     "text": [
      "Numerical solutions: 0.4084569907\n",
      "Numerical solutions: 0.1046313440\n",
      "Numerical solutions: 0.2588502655\n",
      "Numerical solutions: 0.2280613998\n",
      "Mean is:  0.5177005310\n"
     ]
    }
   ],
   "source": [
    "#Solve for xB, xF, xR, xP numerically, and show the mean\n",
    "initial_guess = [.5, .5, .5,.5]\n",
    "solution = fsolve(equations, initial_guess)\n",
    "for k in range(4):\n",
    "    print(f\"Numerical solutions: {solution[k]:.10f}\")\n",
    "print(f\"Mean is: {solution[2]*2: .10f}\")"
   ]
  },
  {
   "cell_type": "raw",
   "id": "92a2d3d4",
   "metadata": {},
   "source": []
  }
 ],
 "metadata": {
  "kernelspec": {
   "display_name": "SageMath 9.8",
   "language": "sage",
   "name": "sagemath"
  },
  "language_info": {
   "codemirror_mode": {
    "name": "ipython",
    "version": 3
   },
   "file_extension": ".py",
   "mimetype": "text/x-python",
   "name": "python",
   "nbconvert_exporter": "python",
   "pygments_lexer": "ipython3",
   "version": "3.10.10"
  }
 },
 "nbformat": 4,
 "nbformat_minor": 5
}
